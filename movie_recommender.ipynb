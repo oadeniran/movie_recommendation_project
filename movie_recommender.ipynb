{
 "cells": [
  {
   "cell_type": "code",
   "execution_count": 1,
   "metadata": {},
   "outputs": [],
   "source": [
    "import pandas as pd\n",
    "import re\n",
    "import random\n",
    "from sklearn.feature_extraction.text import TfidfVectorizer\n",
    "import numpy as np\n",
    "import pickle as pk"
   ]
  },
  {
   "cell_type": "code",
   "execution_count": 2,
   "metadata": {},
   "outputs": [],
   "source": [
    "movies = pd.read_csv('movies.csv')\n",
    "ratings = pd.read_csv('ratings.tsv', sep = '\\t')"
   ]
  },
  {
   "cell_type": "code",
   "execution_count": 3,
   "metadata": {},
   "outputs": [],
   "source": [
    "movies = movies.drop(['originalTitle','endYear'], axis = 1)"
   ]
  },
  {
   "cell_type": "code",
   "execution_count": 4,
   "metadata": {},
   "outputs": [],
   "source": [
    "cols = movies.columns"
   ]
  },
  {
   "cell_type": "code",
   "execution_count": 5,
   "metadata": {},
   "outputs": [
    {
     "name": "stdout",
     "output_type": "stream",
     "text": [
      "Index(['tconst', 'titleType', 'primaryTitle', 'isAdult', 'startYear',\n",
      "       'runtimeMinutes', 'genres'],\n",
      "      dtype='object')\n"
     ]
    }
   ],
   "source": [
    "print(cols)"
   ]
  },
  {
   "cell_type": "code",
   "execution_count": 6,
   "metadata": {},
   "outputs": [
    {
     "name": "stdout",
     "output_type": "stream",
     "text": [
      "['tt0000502' 'tt0000574' 'tt0000591' ... 'tt9916706' 'tt9916730'\n",
      " 'tt9916754']\n",
      "['movie']\n",
      "['Bohemios' 'The Story of the Kelly Gang' 'The Prodigal Son' ...\n",
      " 'Dankyavar Danka' '6 Gunn' 'Chico Albuquerque - Revelações']\n",
      "[0 1]\n",
      "['1905' '1906' '1907' '1908' '1909' '1910' '1912' '1911' '1913' '1915'\n",
      " '1914' '1919' '1916' '1917' '1936' '1925' '1918' '1920' '1922' '1921'\n",
      " '1924' '1923' '1928' '2019' '2021' '1926' '1927' '1929' '2000' '1993'\n",
      " '1935' '1930' '1942' '1932' '1931' '1934' '1939' '1937' '1933' '1950'\n",
      " '1938' '1951' '1946' '1996' '1940' '1944' '1947' '1941' '1952' '1970'\n",
      " '1957' '1943' '1948' '1945' '2001' '1949' '1953' '1954' '1965' '1983'\n",
      " '1980' '1973' '1961' '1955' '1962' '1958' '1956' '1977' '1964' '1960'\n",
      " '1959' '1967' '1968' '1963' '1971' '1969' '1972' '1966' '1976' '1990'\n",
      " '1979' '1981' '2020' '1975' '1978' '1989' '1974' '1986' '1995' '1987'\n",
      " '1985' '2018' '1984' '1982' '1988' '1991' '\\\\N' '1994' '1992' '2005'\n",
      " '2004' '1998' '2016' '2002' '2017' '1997' '1999' '2006' '2008' '2009'\n",
      " '2003' '2007' '2022' '2010' '1898' '1899' '2012' '2013' '2011' '1904'\n",
      " '2024' '2015' '1897' '1901' '1902' '1900' '1903' '2014' '2023' '2025'\n",
      " '2027' '2026' '2028' '2029' '1896']\n",
      "['100' '70' '90' '\\\\N' '120' '58' '50' '51' '52' '45' '92' '60' '56' '53'\n",
      " '48' '47' '68' '71' '46' '76' '85' '40' '55' '32' '121' '89' '69' '54'\n",
      " '150' '64' '96' '49' '61' '101' '300' '57' '99' '110' '88' '86' '170'\n",
      " '72' '78' '75' '450' '148' '124' '220' '59' '63' '112' '1428' '84' '65'\n",
      " '74' '105' '310' '73' '82' '81' '199' '139' '109' '67' '219' '80' '13'\n",
      " '195' '440' '77' '293' '97' '62' '12' '250' '421' '360' '180' '66' '93'\n",
      " '163' '400' '104' '95' '140' '165' '116' '83' '320' '125' '127' '138'\n",
      " '460' '350' '374' '480' '91' '87' '130' '108' '79' '136' '94' '600' '240'\n",
      " '117' '410' '135' '146' '418' '330' '242' '223' '489' '102' '200' '98'\n",
      " '119' '122' '115' '207' '166' '106' '111' '145' '131' '243' '172' '167'\n",
      " '103' '206' '157' '107' '248' '235' '184' '380' '133' '128' '143' '155'\n",
      " '137' '183' '210' '417' '141' '162' '153' '132' '129' '123' '144' '151'\n",
      " '114' '113' '359' '118' '126' '179' '260' '230' '168' '160' '142' '159'\n",
      " '185' '156' '215' '177' '213' '149' '15' '147' '266' '152' '217' '158'\n",
      " '226' '164' '194' '225' '216' '227' '231' '218' '246' '208' '228' '229'\n",
      " '212' '236' '306' '257' '245' '197' '255' '323' '305' '328' '269' '176'\n",
      " '232' '258' '256' '281' '303' '290' '308' '224' '294' '252' '268' '204'\n",
      " '298' '299' '264' '211' '302' '238' '263' '134' '265' '205' '154' '237'\n",
      " '285' '267' '247' '186' '241' '289' '283' '270' '251' '278' '196' '279'\n",
      " '261' '275' '11' '280' '37' '244' '189' '169' '284' '295' '201' '221'\n",
      " '192' '171' '30' '193' '287' '161' '181' '175' '174' '173' '315' '182'\n",
      " '239' '178' '188' '10' '209' '190' '18' '21' '191' '234' '453' '203'\n",
      " '253' '23' '202' '187' '2' '317' '763' '311' '273' '442' '288' '222'\n",
      " '437' '367' '566' '272' '357' '873' '358' '335' '214' '3' '501' '735'\n",
      " '271' '439' '316' '620' '198' '277' '24' '19' '28' '38' '42' '700' '20'\n",
      " '5' '371' '665' '17' '9' '44' '29' '659' '426' '465' '1500' '41' '321'\n",
      " '233' '485' '27' '382' '6' '33' '385' '361' '338' '3122' '776' '340' '43'\n",
      " '7' '254' '2382' '345' '420' '580' '4' '312' '22' '5220' '25' '35' '16'\n",
      " '336' '1' '2880' '366' '301' '1970' '551' '720' '262' '392' '999' '402'\n",
      " '540' '395' '36' '414' '363' '1035' '259' '719' '429' '325' '296' '388'\n",
      " '669' '8' '390' '10062' '2160' '26' '14' '368' '326' '282' '570' '384'\n",
      " '1325' '369' '319' '495' '28643' '354' '331' '663' '575' '520' '39' '435'\n",
      " '372' '1320' '468' '840' '34' '950' '276' '375' '409' '292' '675' '397'\n",
      " '1452' '249' '373' '343' '339' '641' '332' '396' '7200' '1440' '364'\n",
      " '425' '356' '1800' '502' '680' '761' '1200' '31' '510' '274' '2400' '500'\n",
      " '1669' '322' '605' '307' '398' '865' '304' '490' '353' '324' '842' '545'\n",
      " '291' '9000' '613' '411' '333' '14400' '703' '404' '416' '625' '476'\n",
      " '286' '780' '341' '3077' '43200' '352' '334' '1151' '549' '6000' '2905'\n",
      " '5460' '467' '448' '607' '379' '1559' '900' '4080' '346' '406' '1260'\n",
      " '623' '378' '746' '1184' '1179' '365' '383' '51420' '1100' '601' '660'\n",
      " '808' '447' '990']\n",
      "['\\\\N' 'Action,Adventure,Biography' 'Drama' ... 'Music,Musical,Reality-TV'\n",
      " 'Action,Crime,Short' 'News,Sport,Talk-Show']\n"
     ]
    }
   ],
   "source": [
    "for c in cols:\n",
    "    print(movies[c].unique())"
   ]
  },
  {
   "cell_type": "code",
   "execution_count": 7,
   "metadata": {},
   "outputs": [
    {
     "data": {
      "text/html": [
       "<div>\n",
       "<style scoped>\n",
       "    .dataframe tbody tr th:only-of-type {\n",
       "        vertical-align: middle;\n",
       "    }\n",
       "\n",
       "    .dataframe tbody tr th {\n",
       "        vertical-align: top;\n",
       "    }\n",
       "\n",
       "    .dataframe thead th {\n",
       "        text-align: right;\n",
       "    }\n",
       "</style>\n",
       "<table border=\"1\" class=\"dataframe\">\n",
       "  <thead>\n",
       "    <tr style=\"text-align: right;\">\n",
       "      <th></th>\n",
       "      <th>tconst</th>\n",
       "      <th>averageRating</th>\n",
       "      <th>numVotes</th>\n",
       "    </tr>\n",
       "  </thead>\n",
       "  <tbody>\n",
       "    <tr>\n",
       "      <th>0</th>\n",
       "      <td>tt0000001</td>\n",
       "      <td>5.7</td>\n",
       "      <td>1888</td>\n",
       "    </tr>\n",
       "    <tr>\n",
       "      <th>1</th>\n",
       "      <td>tt0000002</td>\n",
       "      <td>5.9</td>\n",
       "      <td>250</td>\n",
       "    </tr>\n",
       "    <tr>\n",
       "      <th>2</th>\n",
       "      <td>tt0000003</td>\n",
       "      <td>6.5</td>\n",
       "      <td>1677</td>\n",
       "    </tr>\n",
       "    <tr>\n",
       "      <th>3</th>\n",
       "      <td>tt0000004</td>\n",
       "      <td>5.8</td>\n",
       "      <td>163</td>\n",
       "    </tr>\n",
       "    <tr>\n",
       "      <th>4</th>\n",
       "      <td>tt0000005</td>\n",
       "      <td>6.2</td>\n",
       "      <td>2498</td>\n",
       "    </tr>\n",
       "    <tr>\n",
       "      <th>...</th>\n",
       "      <td>...</td>\n",
       "      <td>...</td>\n",
       "      <td>...</td>\n",
       "    </tr>\n",
       "    <tr>\n",
       "      <th>1253545</th>\n",
       "      <td>tt9916690</td>\n",
       "      <td>6.5</td>\n",
       "      <td>6</td>\n",
       "    </tr>\n",
       "    <tr>\n",
       "      <th>1253546</th>\n",
       "      <td>tt9916720</td>\n",
       "      <td>5.3</td>\n",
       "      <td>223</td>\n",
       "    </tr>\n",
       "    <tr>\n",
       "      <th>1253547</th>\n",
       "      <td>tt9916730</td>\n",
       "      <td>8.4</td>\n",
       "      <td>6</td>\n",
       "    </tr>\n",
       "    <tr>\n",
       "      <th>1253548</th>\n",
       "      <td>tt9916766</td>\n",
       "      <td>6.7</td>\n",
       "      <td>20</td>\n",
       "    </tr>\n",
       "    <tr>\n",
       "      <th>1253549</th>\n",
       "      <td>tt9916778</td>\n",
       "      <td>7.2</td>\n",
       "      <td>35</td>\n",
       "    </tr>\n",
       "  </tbody>\n",
       "</table>\n",
       "<p>1253550 rows × 3 columns</p>\n",
       "</div>"
      ],
      "text/plain": [
       "            tconst  averageRating  numVotes\n",
       "0        tt0000001            5.7      1888\n",
       "1        tt0000002            5.9       250\n",
       "2        tt0000003            6.5      1677\n",
       "3        tt0000004            5.8       163\n",
       "4        tt0000005            6.2      2498\n",
       "...            ...            ...       ...\n",
       "1253545  tt9916690            6.5         6\n",
       "1253546  tt9916720            5.3       223\n",
       "1253547  tt9916730            8.4         6\n",
       "1253548  tt9916766            6.7        20\n",
       "1253549  tt9916778            7.2        35\n",
       "\n",
       "[1253550 rows x 3 columns]"
      ]
     },
     "execution_count": 7,
     "metadata": {},
     "output_type": "execute_result"
    }
   ],
   "source": [
    "ratings"
   ]
  },
  {
   "cell_type": "code",
   "execution_count": 8,
   "metadata": {
    "scrolled": true
   },
   "outputs": [],
   "source": [
    "movies['genres'] = movies['genres'].replace('\\\\N','unknown')"
   ]
  },
  {
   "cell_type": "code",
   "execution_count": 9,
   "metadata": {},
   "outputs": [],
   "source": [
    "all_genre = {}\n",
    "for i, l in enumerate(movies['genres'].str.split(',')):\n",
    "    if 'unknown' in l:\n",
    "        if 'unknown' not in all_genre.keys():\n",
    "            all_genre['unknown'] = [i]\n",
    "        else:\n",
    "            all_genre['unknown'].append(i)\n",
    "    else:\n",
    "        for c in l:\n",
    "            if c not in all_genre.keys():\n",
    "                all_genre[c] = [i]\n",
    "            else:\n",
    "                all_genre[c].append(i)"
   ]
  },
  {
   "cell_type": "code",
   "execution_count": 10,
   "metadata": {},
   "outputs": [],
   "source": [
    "movies_oh = movies.copy()\n",
    "movies_oh = movies_oh.reset_index()\n",
    "for g in all_genre.keys():\n",
    "    movies_oh[g] = [0] * len(movies_oh)\n",
    "    movies_oh.loc[all_genre[g], g] = 1"
   ]
  },
  {
   "cell_type": "code",
   "execution_count": 11,
   "metadata": {},
   "outputs": [],
   "source": [
    "movies_oh = movies_oh.drop(['index'],axis = 1)"
   ]
  },
  {
   "cell_type": "code",
   "execution_count": 12,
   "metadata": {},
   "outputs": [],
   "source": [
    "movies_oh['runtimeMinutes'] = movies_oh['runtimeMinutes'].replace('\\\\N', 0)"
   ]
  },
  {
   "cell_type": "code",
   "execution_count": 13,
   "metadata": {},
   "outputs": [
    {
     "name": "stdout",
     "output_type": "stream",
     "text": [
      "<class 'pandas.core.frame.DataFrame'>\n",
      "RangeIndex: 613013 entries, 0 to 613012\n",
      "Data columns (total 36 columns):\n",
      " #   Column          Non-Null Count   Dtype \n",
      "---  ------          --------------   ----- \n",
      " 0   tconst          613013 non-null  object\n",
      " 1   titleType       613013 non-null  object\n",
      " 2   primaryTitle    613013 non-null  object\n",
      " 3   isAdult         613013 non-null  int64 \n",
      " 4   startYear       613013 non-null  object\n",
      " 5   runtimeMinutes  613013 non-null  object\n",
      " 6   genres          613013 non-null  object\n",
      " 7   unknown         613013 non-null  int64 \n",
      " 8   Action          613013 non-null  int64 \n",
      " 9   Adventure       613013 non-null  int64 \n",
      " 10  Biography       613013 non-null  int64 \n",
      " 11  Drama           613013 non-null  int64 \n",
      " 12  Fantasy         613013 non-null  int64 \n",
      " 13  Comedy          613013 non-null  int64 \n",
      " 14  War             613013 non-null  int64 \n",
      " 15  Documentary     613013 non-null  int64 \n",
      " 16  Crime           613013 non-null  int64 \n",
      " 17  Romance         613013 non-null  int64 \n",
      " 18  Family          613013 non-null  int64 \n",
      " 19  History         613013 non-null  int64 \n",
      " 20  Sci-Fi          613013 non-null  int64 \n",
      " 21  Thriller        613013 non-null  int64 \n",
      " 22  Western         613013 non-null  int64 \n",
      " 23  Sport           613013 non-null  int64 \n",
      " 24  Mystery         613013 non-null  int64 \n",
      " 25  Horror          613013 non-null  int64 \n",
      " 26  Music           613013 non-null  int64 \n",
      " 27  Animation       613013 non-null  int64 \n",
      " 28  Musical         613013 non-null  int64 \n",
      " 29  Film-Noir       613013 non-null  int64 \n",
      " 30  News            613013 non-null  int64 \n",
      " 31  Short           613013 non-null  int64 \n",
      " 32  Adult           613013 non-null  int64 \n",
      " 33  Reality-TV      613013 non-null  int64 \n",
      " 34  Talk-Show       613013 non-null  int64 \n",
      " 35  Game-Show       613013 non-null  int64 \n",
      "dtypes: int64(30), object(6)\n",
      "memory usage: 168.4+ MB\n"
     ]
    }
   ],
   "source": [
    "movies_oh.info()"
   ]
  },
  {
   "cell_type": "code",
   "execution_count": 14,
   "metadata": {},
   "outputs": [],
   "source": [
    "movies_oh = movies_oh.astype({'runtimeMinutes':int})"
   ]
  },
  {
   "cell_type": "code",
   "execution_count": 15,
   "metadata": {},
   "outputs": [],
   "source": [
    "year_dict = {v : i for i, v in enumerate(movies_oh['startYear'].unique())}"
   ]
  },
  {
   "cell_type": "code",
   "execution_count": 16,
   "metadata": {},
   "outputs": [],
   "source": [
    "movies_oh['startYear'] = movies_oh['startYear'].map(year_dict)"
   ]
  },
  {
   "cell_type": "code",
   "execution_count": 17,
   "metadata": {},
   "outputs": [
    {
     "name": "stdout",
     "output_type": "stream",
     "text": [
      "<class 'pandas.core.frame.DataFrame'>\n",
      "RangeIndex: 613013 entries, 0 to 613012\n",
      "Data columns (total 36 columns):\n",
      " #   Column          Non-Null Count   Dtype \n",
      "---  ------          --------------   ----- \n",
      " 0   tconst          613013 non-null  object\n",
      " 1   titleType       613013 non-null  object\n",
      " 2   primaryTitle    613013 non-null  object\n",
      " 3   isAdult         613013 non-null  int64 \n",
      " 4   startYear       613013 non-null  int64 \n",
      " 5   runtimeMinutes  613013 non-null  int32 \n",
      " 6   genres          613013 non-null  object\n",
      " 7   unknown         613013 non-null  int64 \n",
      " 8   Action          613013 non-null  int64 \n",
      " 9   Adventure       613013 non-null  int64 \n",
      " 10  Biography       613013 non-null  int64 \n",
      " 11  Drama           613013 non-null  int64 \n",
      " 12  Fantasy         613013 non-null  int64 \n",
      " 13  Comedy          613013 non-null  int64 \n",
      " 14  War             613013 non-null  int64 \n",
      " 15  Documentary     613013 non-null  int64 \n",
      " 16  Crime           613013 non-null  int64 \n",
      " 17  Romance         613013 non-null  int64 \n",
      " 18  Family          613013 non-null  int64 \n",
      " 19  History         613013 non-null  int64 \n",
      " 20  Sci-Fi          613013 non-null  int64 \n",
      " 21  Thriller        613013 non-null  int64 \n",
      " 22  Western         613013 non-null  int64 \n",
      " 23  Sport           613013 non-null  int64 \n",
      " 24  Mystery         613013 non-null  int64 \n",
      " 25  Horror          613013 non-null  int64 \n",
      " 26  Music           613013 non-null  int64 \n",
      " 27  Animation       613013 non-null  int64 \n",
      " 28  Musical         613013 non-null  int64 \n",
      " 29  Film-Noir       613013 non-null  int64 \n",
      " 30  News            613013 non-null  int64 \n",
      " 31  Short           613013 non-null  int64 \n",
      " 32  Adult           613013 non-null  int64 \n",
      " 33  Reality-TV      613013 non-null  int64 \n",
      " 34  Talk-Show       613013 non-null  int64 \n",
      " 35  Game-Show       613013 non-null  int64 \n",
      "dtypes: int32(1), int64(31), object(4)\n",
      "memory usage: 166.0+ MB\n"
     ]
    }
   ],
   "source": [
    "movies_oh.info()"
   ]
  },
  {
   "cell_type": "code",
   "execution_count": 18,
   "metadata": {},
   "outputs": [],
   "source": [
    "train = movies_oh.select_dtypes(exclude = 'object')"
   ]
  },
  {
   "cell_type": "code",
   "execution_count": 19,
   "metadata": {},
   "outputs": [
    {
     "data": {
      "text/plain": [
       "NearestNeighbors(algorithm='brute', metric='cosine', n_jobs=-1, n_neighbors=100)"
      ]
     },
     "execution_count": 19,
     "metadata": {},
     "output_type": "execute_result"
    }
   ],
   "source": [
    "from sklearn.neighbors import NearestNeighbors\n",
    "knn = NearestNeighbors(metric='cosine', algorithm='brute', n_neighbors=100, n_jobs=-1)\n",
    "knn.fit(train)"
   ]
  },
  {
   "cell_type": "code",
   "execution_count": 20,
   "metadata": {},
   "outputs": [],
   "source": [
    "dist, n = knn.kneighbors(np.array(train.loc[424548, :]).reshape(1,-1))"
   ]
  },
  {
   "cell_type": "code",
   "execution_count": 21,
   "metadata": {},
   "outputs": [
    {
     "data": {
      "text/plain": [
       "424548          Avengers: Age of Ultron\n",
       "217380                        Star Trek\n",
       "186071                         Iron Man\n",
       "525735                         Moonfall\n",
       "224548           The Amazing Spider-Man\n",
       "                      ...              \n",
       "294464        Liverpool vs Leeds United\n",
       "280393                     Tiger Killer\n",
       "235749                         Immortal\n",
       "300629           Southampton vs Everton\n",
       "302635    Leicester City vs Aston Villa\n",
       "Name: primaryTitle, Length: 100, dtype: object"
      ]
     },
     "execution_count": 21,
     "metadata": {},
     "output_type": "execute_result"
    }
   ],
   "source": [
    "movies_oh.loc[n[0], 'primaryTitle']"
   ]
  },
  {
   "cell_type": "code",
   "execution_count": null,
   "metadata": {},
   "outputs": [],
   "source": []
  },
  {
   "cell_type": "code",
   "execution_count": 22,
   "metadata": {},
   "outputs": [],
   "source": [
    "movies_oh_rating = pd.merge(movies_oh, ratings, 'left', on = 'tconst')"
   ]
  },
  {
   "cell_type": "code",
   "execution_count": null,
   "metadata": {},
   "outputs": [],
   "source": [
    "movies_oh_rating.fillna(0, inplace = True)"
   ]
  },
  {
   "cell_type": "code",
   "execution_count": null,
   "metadata": {},
   "outputs": [],
   "source": [
    "train_rating = movies_oh_rating.select_dtypes(exclude = 'object')"
   ]
  },
  {
   "cell_type": "code",
   "execution_count": null,
   "metadata": {},
   "outputs": [],
   "source": [
    "train_rating"
   ]
  },
  {
   "cell_type": "code",
   "execution_count": null,
   "metadata": {},
   "outputs": [],
   "source": [
    "knn2 = NearestNeighbors(metric='cosine', algorithm='brute', n_neighbors=100, n_jobs=-1)\n",
    "knn2.fit(train_rating)"
   ]
  },
  {
   "cell_type": "code",
   "execution_count": null,
   "metadata": {},
   "outputs": [],
   "source": [
    "dist2, n2 = knn2.kneighbors(np.array(train_rating.loc[424548, :]).reshape(1,-1))"
   ]
  },
  {
   "cell_type": "code",
   "execution_count": null,
   "metadata": {},
   "outputs": [],
   "source": [
    "movies_oh_rating.loc[n2[0], 'primaryTitle']"
   ]
  },
  {
   "cell_type": "code",
   "execution_count": null,
   "metadata": {},
   "outputs": [],
   "source": [
    "rating_only = pd.merge(movies_oh[['tconst','primaryTitle', 'isAdult','startYear']], ratings, 'left', on = 'tconst')"
   ]
  },
  {
   "cell_type": "code",
   "execution_count": null,
   "metadata": {},
   "outputs": [],
   "source": [
    "rating_only = rating_only.fillna(0)\n",
    "train_rating_only = rating_only.select_dtypes(exclude = 'object')"
   ]
  },
  {
   "cell_type": "code",
   "execution_count": null,
   "metadata": {},
   "outputs": [],
   "source": [
    "train_rating_only"
   ]
  },
  {
   "cell_type": "code",
   "execution_count": null,
   "metadata": {},
   "outputs": [],
   "source": [
    "from sklearn.neighbors import NearestNeighbors\n",
    "knn3 = NearestNeighbors(metric='cosine', algorithm='brute', n_neighbors=100, n_jobs=-1)\n",
    "knn3.fit(train_rating_only)"
   ]
  },
  {
   "cell_type": "code",
   "execution_count": null,
   "metadata": {},
   "outputs": [],
   "source": [
    "dist3, n3 = knn3.kneighbors(np.array(train_rating_only.loc[424548, :]).reshape(1,-1))"
   ]
  },
  {
   "cell_type": "code",
   "execution_count": null,
   "metadata": {},
   "outputs": [],
   "source": [
    "movies_oh_rating.loc[n3[0], 'primaryTitle']"
   ]
  },
  {
   "cell_type": "code",
   "execution_count": null,
   "metadata": {},
   "outputs": [],
   "source": [
    "with open('knn.pickle', 'wb') as f:\n",
    "    pk.dump(knn, f)\n",
    "with open('knn2.pickle', 'wb') as f:\n",
    "    pk.dump(knn2,f)"
   ]
  },
  {
   "cell_type": "code",
   "execution_count": null,
   "metadata": {},
   "outputs": [],
   "source": []
  }
 ],
 "metadata": {
  "kernelspec": {
   "display_name": "Python 3 (ipykernel)",
   "language": "python",
   "name": "python3"
  },
  "language_info": {
   "codemirror_mode": {
    "name": "ipython",
    "version": 3
   },
   "file_extension": ".py",
   "mimetype": "text/x-python",
   "name": "python",
   "nbconvert_exporter": "python",
   "pygments_lexer": "ipython3",
   "version": "3.9.7"
  }
 },
 "nbformat": 4,
 "nbformat_minor": 4
}
