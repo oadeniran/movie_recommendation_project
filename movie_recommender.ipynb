{
 "cells": [
  {
   "cell_type": "code",
   "execution_count": 1,
   "metadata": {},
   "outputs": [],
   "source": [
    "import pandas as pd\n",
    "import re\n",
    "import random\n",
    "from sklearn.feature_extraction.text import TfidfVectorizer\n",
    "import numpy as np\n",
    "import pickle as pk"
   ]
  },
  {
   "cell_type": "code",
   "execution_count": 2,
   "metadata": {},
   "outputs": [],
   "source": [
    "movies = pd.read_csv('movies.csv', encoding = 'latin-1')\n",
    "ratings = pd.read_csv('ratings.tsv', sep = '\\t')"
   ]
  },
  {
   "cell_type": "code",
   "execution_count": 3,
   "metadata": {},
   "outputs": [],
   "source": [
    "movies = movies.drop(['originalTitle','endYear'], axis = 1)"
   ]
  },
  {
   "cell_type": "code",
   "execution_count": 4,
   "metadata": {},
   "outputs": [],
   "source": [
    "cols = movies.columns"
   ]
  },
  {
   "cell_type": "code",
   "execution_count": 5,
   "metadata": {},
   "outputs": [
    {
     "name": "stdout",
     "output_type": "stream",
     "text": [
      "Index(['tconst', 'titleType', 'primaryTitle', 'isAdult', 'startYear',\n",
      "       'runtimeMinutes', 'genres'],\n",
      "      dtype='object')\n"
     ]
    }
   ],
   "source": [
    "print(cols)"
   ]
  },
  {
   "cell_type": "code",
   "execution_count": 6,
   "metadata": {},
   "outputs": [
    {
     "name": "stdout",
     "output_type": "stream",
     "text": [
      "['tt0000502' 'tt0000574' 'tt0000591' ... 'tt9916706' 'tt9916730'\n",
      " 'tt9916754']\n",
      "['movie']\n",
      "['Bohemios' 'The Story of the Kelly Gang' 'The Prodigal Son' ...\n",
      " 'Dankyavar Danka' '6 Gunn' 'Chico Albuquerque - Revelações']\n",
      "[0 1]\n",
      "['1905' '1906' '1907' '1908' '1909' '1910' '1912' '1911' '1913' '1915'\n",
      " '1914' '1919' '1916' '1917' '1936' '1925' '1918' '1920' '1922' '1921'\n",
      " '1924' '1923' '1928' '2019' '2021' '1926' '1927' '1929' '2000' '1993'\n",
      " '1935' '1930' '1942' '1932' '1931' '1934' '1939' '1937' '1933' '1950'\n",
      " '1938' '1951' '1946' '1996' '1940' '1944' '1947' '1941' '1952' '1970'\n",
      " '1957' '1943' '1948' '1945' '2001' '1949' '1953' '1954' '1965' '1983'\n",
      " '1980' '1973' '1961' '1955' '1962' '1958' '1956' '1977' '1964' '1960'\n",
      " '1959' '1967' '1968' '1963' '1971' '1969' '1972' '1966' '1976' '1990'\n",
      " '1979' '1981' '2020' '1975' '1978' '1989' '1974' '1986' '1995' '1987'\n",
      " '1985' '2018' '1984' '1982' '1988' '1991' '\\\\N' '1994' '1992' '2005'\n",
      " '2004' '1998' '2016' '2002' '2017' '1997' '1999' '2006' '2008' '2009'\n",
      " '2003' '2007' '2022' '2010' '1898' '1899' '2012' '2013' '2011' '1904'\n",
      " '2024' '2015' '1897' '1901' '1902' '1900' '1903' '2014' '2023' '2025'\n",
      " '2027' '2026' '2028' '2029' '1896']\n",
      "['100' '70' '90' '\\\\N' '120' '58' '50' '51' '52' '45' '92' '60' '56' '53'\n",
      " '48' '47' '68' '71' '46' '76' '85' '40' '55' '32' '121' '89' '69' '54'\n",
      " '150' '64' '96' '49' '61' '101' '300' '57' '99' '110' '88' '86' '170'\n",
      " '72' '78' '75' '450' '148' '124' '220' '59' '63' '112' '1428' '84' '65'\n",
      " '74' '105' '310' '73' '82' '81' '199' '139' '109' '67' '219' '80' '13'\n",
      " '195' '440' '77' '293' '97' '62' '12' '250' '421' '360' '180' '66' '93'\n",
      " '163' '400' '104' '95' '140' '165' '116' '83' '320' '125' '127' '138'\n",
      " '460' '350' '374' '480' '91' '87' '130' '108' '79' '136' '94' '600' '240'\n",
      " '117' '410' '135' '146' '418' '330' '242' '223' '489' '102' '200' '98'\n",
      " '119' '122' '115' '207' '166' '106' '111' '145' '131' '243' '172' '167'\n",
      " '103' '206' '157' '107' '248' '235' '184' '380' '133' '128' '143' '155'\n",
      " '137' '183' '210' '417' '141' '162' '153' '132' '129' '123' '144' '151'\n",
      " '114' '113' '359' '118' '126' '179' '260' '230' '168' '160' '142' '159'\n",
      " '185' '156' '215' '177' '213' '149' '15' '147' '266' '152' '217' '158'\n",
      " '226' '164' '194' '225' '216' '227' '231' '218' '246' '208' '228' '229'\n",
      " '212' '236' '306' '257' '245' '197' '255' '323' '305' '328' '269' '176'\n",
      " '232' '258' '256' '281' '303' '290' '308' '224' '294' '252' '268' '204'\n",
      " '298' '299' '264' '211' '302' '238' '263' '134' '265' '205' '154' '237'\n",
      " '285' '267' '247' '186' '241' '289' '283' '270' '251' '278' '196' '279'\n",
      " '261' '275' '11' '280' '37' '244' '189' '169' '284' '295' '201' '221'\n",
      " '192' '171' '30' '193' '287' '161' '181' '175' '174' '173' '315' '182'\n",
      " '239' '178' '188' '10' '209' '190' '18' '21' '191' '234' '453' '203'\n",
      " '253' '23' '202' '187' '2' '317' '763' '311' '273' '442' '288' '222'\n",
      " '437' '367' '566' '272' '357' '873' '358' '335' '214' '3' '501' '735'\n",
      " '271' '439' '316' '620' '198' '277' '24' '19' '28' '38' '42' '700' '20'\n",
      " '5' '371' '665' '17' '9' '44' '29' '659' '426' '465' '1500' '41' '321'\n",
      " '233' '485' '27' '382' '6' '33' '385' '361' '338' '3122' '776' '340' '43'\n",
      " '7' '254' '2382' '345' '420' '580' '4' '312' '22' '5220' '25' '35' '16'\n",
      " '336' '1' '2880' '366' '301' '1970' '551' '720' '262' '392' '999' '402'\n",
      " '540' '395' '36' '414' '363' '1035' '259' '719' '429' '325' '296' '388'\n",
      " '669' '8' '390' '10062' '2160' '26' '14' '368' '326' '282' '570' '384'\n",
      " '1325' '369' '319' '495' '28643' '354' '331' '663' '575' '520' '39' '435'\n",
      " '372' '1320' '468' '840' '34' '950' '276' '375' '409' '292' '675' '397'\n",
      " '1452' '249' '373' '343' '339' '641' '332' '396' '7200' '1440' '364'\n",
      " '425' '356' '1800' '502' '680' '761' '1200' '31' '510' '274' '2400' '500'\n",
      " '1669' '322' '605' '307' '398' '865' '304' '490' '353' '324' '842' '545'\n",
      " '291' '9000' '613' '411' '333' '14400' '703' '404' '416' '625' '476'\n",
      " '286' '780' '341' '3077' '43200' '352' '334' '1151' '549' '6000' '2905'\n",
      " '5460' '467' '448' '607' '379' '1559' '900' '4080' '346' '406' '1260'\n",
      " '623' '378' '746' '1184' '1179' '365' '383' '51420' '1100' '601' '660'\n",
      " '808' '447' '990']\n",
      "['\\\\N' 'Action,Adventure,Biography' 'Drama' ... 'Music,Musical,Reality-TV'\n",
      " 'Action,Crime,Short' 'News,Sport,Talk-Show']\n"
     ]
    }
   ],
   "source": [
    "for c in cols:\n",
    "    print(movies[c].unique())"
   ]
  },
  {
   "cell_type": "code",
   "execution_count": 7,
   "metadata": {},
   "outputs": [
    {
     "data": {
      "text/html": [
       "<div>\n",
       "<style scoped>\n",
       "    .dataframe tbody tr th:only-of-type {\n",
       "        vertical-align: middle;\n",
       "    }\n",
       "\n",
       "    .dataframe tbody tr th {\n",
       "        vertical-align: top;\n",
       "    }\n",
       "\n",
       "    .dataframe thead th {\n",
       "        text-align: right;\n",
       "    }\n",
       "</style>\n",
       "<table border=\"1\" class=\"dataframe\">\n",
       "  <thead>\n",
       "    <tr style=\"text-align: right;\">\n",
       "      <th></th>\n",
       "      <th>tconst</th>\n",
       "      <th>averageRating</th>\n",
       "      <th>numVotes</th>\n",
       "    </tr>\n",
       "  </thead>\n",
       "  <tbody>\n",
       "    <tr>\n",
       "      <th>0</th>\n",
       "      <td>tt0000001</td>\n",
       "      <td>5.7</td>\n",
       "      <td>1888</td>\n",
       "    </tr>\n",
       "    <tr>\n",
       "      <th>1</th>\n",
       "      <td>tt0000002</td>\n",
       "      <td>5.9</td>\n",
       "      <td>250</td>\n",
       "    </tr>\n",
       "    <tr>\n",
       "      <th>2</th>\n",
       "      <td>tt0000003</td>\n",
       "      <td>6.5</td>\n",
       "      <td>1677</td>\n",
       "    </tr>\n",
       "    <tr>\n",
       "      <th>3</th>\n",
       "      <td>tt0000004</td>\n",
       "      <td>5.8</td>\n",
       "      <td>163</td>\n",
       "    </tr>\n",
       "    <tr>\n",
       "      <th>4</th>\n",
       "      <td>tt0000005</td>\n",
       "      <td>6.2</td>\n",
       "      <td>2498</td>\n",
       "    </tr>\n",
       "    <tr>\n",
       "      <th>...</th>\n",
       "      <td>...</td>\n",
       "      <td>...</td>\n",
       "      <td>...</td>\n",
       "    </tr>\n",
       "    <tr>\n",
       "      <th>1253545</th>\n",
       "      <td>tt9916690</td>\n",
       "      <td>6.5</td>\n",
       "      <td>6</td>\n",
       "    </tr>\n",
       "    <tr>\n",
       "      <th>1253546</th>\n",
       "      <td>tt9916720</td>\n",
       "      <td>5.3</td>\n",
       "      <td>223</td>\n",
       "    </tr>\n",
       "    <tr>\n",
       "      <th>1253547</th>\n",
       "      <td>tt9916730</td>\n",
       "      <td>8.4</td>\n",
       "      <td>6</td>\n",
       "    </tr>\n",
       "    <tr>\n",
       "      <th>1253548</th>\n",
       "      <td>tt9916766</td>\n",
       "      <td>6.7</td>\n",
       "      <td>20</td>\n",
       "    </tr>\n",
       "    <tr>\n",
       "      <th>1253549</th>\n",
       "      <td>tt9916778</td>\n",
       "      <td>7.2</td>\n",
       "      <td>35</td>\n",
       "    </tr>\n",
       "  </tbody>\n",
       "</table>\n",
       "<p>1253550 rows × 3 columns</p>\n",
       "</div>"
      ],
      "text/plain": [
       "            tconst  averageRating  numVotes\n",
       "0        tt0000001            5.7      1888\n",
       "1        tt0000002            5.9       250\n",
       "2        tt0000003            6.5      1677\n",
       "3        tt0000004            5.8       163\n",
       "4        tt0000005            6.2      2498\n",
       "...            ...            ...       ...\n",
       "1253545  tt9916690            6.5         6\n",
       "1253546  tt9916720            5.3       223\n",
       "1253547  tt9916730            8.4         6\n",
       "1253548  tt9916766            6.7        20\n",
       "1253549  tt9916778            7.2        35\n",
       "\n",
       "[1253550 rows x 3 columns]"
      ]
     },
     "execution_count": 7,
     "metadata": {},
     "output_type": "execute_result"
    }
   ],
   "source": [
    "ratings"
   ]
  },
  {
   "cell_type": "code",
   "execution_count": 6,
   "metadata": {
    "scrolled": true
   },
   "outputs": [],
   "source": [
    "movies['genres'] = movies['genres'].replace('\\\\N','unknown')"
   ]
  },
  {
   "cell_type": "code",
   "execution_count": 7,
   "metadata": {},
   "outputs": [],
   "source": [
    "movies = movies.dropna()"
   ]
  },
  {
   "cell_type": "code",
   "execution_count": 8,
   "metadata": {},
   "outputs": [],
   "source": [
    "all_genre = {}\n",
    "for i, l in enumerate(movies['genres'].str.split(',')):\n",
    "    if 'unknown' in l:\n",
    "        if 'unknown' not in all_genre.keys():\n",
    "            all_genre['unknown'] = [i]\n",
    "        else:\n",
    "            all_genre['unknown'].append(i)\n",
    "    else:\n",
    "        for c in l:\n",
    "            if c not in all_genre.keys():\n",
    "                all_genre[c] = [i]\n",
    "            else:\n",
    "                all_genre[c].append(i)"
   ]
  },
  {
   "cell_type": "code",
   "execution_count": 9,
   "metadata": {},
   "outputs": [],
   "source": [
    "movies_oh = movies.copy()\n",
    "movies_oh = movies_oh.reset_index()\n",
    "for g in all_genre.keys():\n",
    "    movies_oh[g] = [0] * len(movies_oh)\n",
    "    movies_oh.loc[all_genre[g], g] = 1"
   ]
  },
  {
   "cell_type": "code",
   "execution_count": 10,
   "metadata": {},
   "outputs": [],
   "source": [
    "movies_oh = movies_oh.drop(['index'],axis = 1)"
   ]
  },
  {
   "cell_type": "code",
   "execution_count": 11,
   "metadata": {},
   "outputs": [],
   "source": [
    "movies_oh['runtimeMinutes'] = movies_oh['runtimeMinutes'].replace('\\\\N', 0)"
   ]
  },
  {
   "cell_type": "code",
   "execution_count": 12,
   "metadata": {},
   "outputs": [
    {
     "name": "stdout",
     "output_type": "stream",
     "text": [
      "<class 'pandas.core.frame.DataFrame'>\n",
      "RangeIndex: 613001 entries, 0 to 613000\n",
      "Data columns (total 36 columns):\n",
      " #   Column          Non-Null Count   Dtype  \n",
      "---  ------          --------------   -----  \n",
      " 0   tconst          613001 non-null  object \n",
      " 1   titleType       613001 non-null  object \n",
      " 2   primaryTitle    613001 non-null  object \n",
      " 3   isAdult         613001 non-null  float64\n",
      " 4   startYear       613001 non-null  object \n",
      " 5   runtimeMinutes  613001 non-null  object \n",
      " 6   genres          613001 non-null  object \n",
      " 7   unknown         613001 non-null  int64  \n",
      " 8   Action          613001 non-null  int64  \n",
      " 9   Adventure       613001 non-null  int64  \n",
      " 10  Biography       613001 non-null  int64  \n",
      " 11  Drama           613001 non-null  int64  \n",
      " 12  Fantasy         613001 non-null  int64  \n",
      " 13  Comedy          613001 non-null  int64  \n",
      " 14  War             613001 non-null  int64  \n",
      " 15  Documentary     613001 non-null  int64  \n",
      " 16  Crime           613001 non-null  int64  \n",
      " 17  Romance         613001 non-null  int64  \n",
      " 18  Family          613001 non-null  int64  \n",
      " 19  History         613001 non-null  int64  \n",
      " 20  Sci-Fi          613001 non-null  int64  \n",
      " 21  Thriller        613001 non-null  int64  \n",
      " 22  Western         613001 non-null  int64  \n",
      " 23  Sport           613001 non-null  int64  \n",
      " 24  Mystery         613001 non-null  int64  \n",
      " 25  Horror          613001 non-null  int64  \n",
      " 26  Music           613001 non-null  int64  \n",
      " 27  Animation       613001 non-null  int64  \n",
      " 28  Musical         613001 non-null  int64  \n",
      " 29  Film-Noir       613001 non-null  int64  \n",
      " 30  News            613001 non-null  int64  \n",
      " 31  Short           613001 non-null  int64  \n",
      " 32  Adult           613001 non-null  int64  \n",
      " 33  Reality-TV      613001 non-null  int64  \n",
      " 34  Talk-Show       613001 non-null  int64  \n",
      " 35  Game-Show       613001 non-null  int64  \n",
      "dtypes: float64(1), int64(29), object(6)\n",
      "memory usage: 168.4+ MB\n"
     ]
    }
   ],
   "source": [
    "movies_oh.info()"
   ]
  },
  {
   "cell_type": "code",
   "execution_count": 13,
   "metadata": {},
   "outputs": [],
   "source": [
    "movies_oh = movies_oh.astype({'runtimeMinutes':int})"
   ]
  },
  {
   "cell_type": "code",
   "execution_count": 14,
   "metadata": {},
   "outputs": [],
   "source": [
    "year_dict = {v : i for i, v in enumerate(movies_oh['startYear'].unique())}"
   ]
  },
  {
   "cell_type": "code",
   "execution_count": 15,
   "metadata": {},
   "outputs": [],
   "source": [
    "movies_oh['startYear'] = movies_oh['startYear'].map(year_dict)"
   ]
  },
  {
   "cell_type": "code",
   "execution_count": 33,
   "metadata": {},
   "outputs": [
    {
     "name": "stdout",
     "output_type": "stream",
     "text": [
      "<class 'pandas.core.frame.DataFrame'>\n",
      "RangeIndex: 613001 entries, 0 to 613000\n",
      "Data columns (total 37 columns):\n",
      " #   Column          Non-Null Count   Dtype  \n",
      "---  ------          --------------   -----  \n",
      " 0   index           613001 non-null  int64  \n",
      " 1   tconst          613001 non-null  object \n",
      " 2   titleType       613001 non-null  object \n",
      " 3   primaryTitle    613001 non-null  object \n",
      " 4   isAdult         613001 non-null  float64\n",
      " 5   startYear       613001 non-null  int64  \n",
      " 6   runtimeMinutes  613001 non-null  int32  \n",
      " 7   genres          613001 non-null  object \n",
      " 8   unknown         613001 non-null  int64  \n",
      " 9   Action          613001 non-null  int64  \n",
      " 10  Adventure       613001 non-null  int64  \n",
      " 11  Biography       613001 non-null  int64  \n",
      " 12  Drama           613001 non-null  int64  \n",
      " 13  Fantasy         613001 non-null  int64  \n",
      " 14  Comedy          613001 non-null  int64  \n",
      " 15  War             613001 non-null  int64  \n",
      " 16  Documentary     613001 non-null  int64  \n",
      " 17  Crime           613001 non-null  int64  \n",
      " 18  Romance         613001 non-null  int64  \n",
      " 19  Family          613001 non-null  int64  \n",
      " 20  History         613001 non-null  int64  \n",
      " 21  Sci-Fi          613001 non-null  int64  \n",
      " 22  Thriller        613001 non-null  int64  \n",
      " 23  Western         613001 non-null  int64  \n",
      " 24  Sport           613001 non-null  int64  \n",
      " 25  Mystery         613001 non-null  int64  \n",
      " 26  Horror          613001 non-null  int64  \n",
      " 27  Music           613001 non-null  int64  \n",
      " 28  Animation       613001 non-null  int64  \n",
      " 29  Musical         613001 non-null  int64  \n",
      " 30  Film-Noir       613001 non-null  int64  \n",
      " 31  News            613001 non-null  int64  \n",
      " 32  Short           613001 non-null  int64  \n",
      " 33  Adult           613001 non-null  int64  \n",
      " 34  Reality-TV      613001 non-null  int64  \n",
      " 35  Talk-Show       613001 non-null  int64  \n",
      " 36  Game-Show       613001 non-null  int64  \n",
      "dtypes: float64(1), int32(1), int64(31), object(4)\n",
      "memory usage: 170.7+ MB\n"
     ]
    }
   ],
   "source": [
    "movies_oh.info()"
   ]
  },
  {
   "cell_type": "code",
   "execution_count": 16,
   "metadata": {},
   "outputs": [],
   "source": [
    "train = movies_oh.select_dtypes(exclude = 'object')"
   ]
  },
  {
   "cell_type": "code",
   "execution_count": 16,
   "metadata": {},
   "outputs": [
    {
     "data": {
      "text/plain": [
       "NearestNeighbors(algorithm='brute', metric='cosine', n_jobs=-1, n_neighbors=100)"
      ]
     },
     "execution_count": 16,
     "metadata": {},
     "output_type": "execute_result"
    }
   ],
   "source": [
    "from sklearn.neighbors import NearestNeighbors\n",
    "knn = NearestNeighbors(metric='cosine', algorithm='brute', n_neighbors=100, n_jobs=-1)\n",
    "knn.fit(train)"
   ]
  },
  {
   "cell_type": "code",
   "execution_count": 38,
   "metadata": {},
   "outputs": [],
   "source": [
    "dist, n = knn.kneighbors(np.array(train.loc[424536, :]).reshape(1,-1))"
   ]
  },
  {
   "cell_type": "code",
   "execution_count": 39,
   "metadata": {},
   "outputs": [
    {
     "data": {
      "text/plain": [
       "424536                         Avengers: Age of Ultron\n",
       "217368                                       Star Trek\n",
       "186059                                        Iron Man\n",
       "525723                                        Moonfall\n",
       "224536                          The Amazing Spider-Man\n",
       "                              ...                     \n",
       "291390               RB Leipzig vs Paris Saint-Germain\n",
       "280381                                    Tiger Killer\n",
       "271032    Tottenham Hotspur vs Wolverhampton Wanderers\n",
       "235737                                        Immortal\n",
       "302623                   Leicester City vs Aston Villa\n",
       "Name: primaryTitle, Length: 100, dtype: object"
      ]
     },
     "execution_count": 39,
     "metadata": {},
     "output_type": "execute_result"
    }
   ],
   "source": [
    "movies_oh.loc[n[0], 'primaryTitle']"
   ]
  },
  {
   "cell_type": "code",
   "execution_count": 46,
   "metadata": {},
   "outputs": [
    {
     "data": {
      "text/plain": [
       "array(['Avengers: Age of Ultron', 'Star Trek', 'Iron Man', 'Moonfall',\n",
       "       'The Amazing Spider-Man', 'War of the Worlds',\n",
       "       'Star Trek VI: The Undiscovered Country', 'Spider-Man',\n",
       "       'Independence Day: Resurgence', 'The Predator', 'Rampage',\n",
       "       'Detras del paraÃ\\xadso', 'The Terminator',\n",
       "       'Alerta, alta tensiÃ³n', 'Nuk Rob Dum',\n",
       "       'No Retreat, No Surrender 2', 'The Matrix Revolutions',\n",
       "       '37 Plots of Kung Fu', 'Cheng fa', \"Let's Get Harry\", 'Sky Riders',\n",
       "       'Hong fen dong jiang hu', 'Hanuman and the 5 Kamen Riders',\n",
       "       'The Mighty One', 'To Subdue the Evil', 'Precognition',\n",
       "       'Revenge of the Iron-Fist Maiden', 'Prelude to Infusco', 'Jil',\n",
       "       'Return to Role Playing', 'Most Welcome', 'Never Quite the Same',\n",
       "       'Return Of Gadar - Ek Desh Premi',\n",
       "       'Hari ng selda: Anak ni Baby Ama 2', 'Uchathula Shiva',\n",
       "       'Killer Punjabi', 'Shrestha Bangali', 'Soy como el Tigre',\n",
       "       'Chung kuo ren', 'Conquest of the Planet of the Apes', 'Brat Pack',\n",
       "       'Assault on the State Treasure', 'Blind Game',\n",
       "       'Comando de federales AR-15', 'Speed Shift: Origins', 'Borg War 3',\n",
       "       'The Bourne Legacy', 'Hellriders', 'Atrophy', 'KL Special Force',\n",
       "       'In Like Flynn', 'Uppukandam Brothers Back in Action',\n",
       "       'La dÃ©chirure', 'Contreras Gang', 'Tie niang zi',\n",
       "       'Yi jian qing shen', 'Srirangapuram',\n",
       "       'Pirates of the Caribbean: On Stranger Tides', 'The Lost Bag',\n",
       "       'Nyaydaata', 'Mission Mumbai', 'Schatten der WÃ¼ste',\n",
       "       'Hak do fuk sing', 'Toofan', 'V zone osobogo vnimaniya',\n",
       "       'Star Pilot', 'Zenigata Heiji', 'Do Waqt Ki Roti', 'Azumi',\n",
       "       'Agnichakra', 'Invisible Target', 'Martial Marshal',\n",
       "       'Wandering Heroes', 'Angel of Fury', 'Sudden Thunder',\n",
       "       'Black Cobra 3: The Manila Connection', 'Operation Las Vegas',\n",
       "       'Al Nassab W Al Kalb', 'BallagÃ³ idÃ¶',\n",
       "       'Krishnam Vande Jagadgurum', 'Wolf Hound', 'Trapper County War',\n",
       "       'The Tiger Brigades', 'Monrovia on Fire', 'Hitman',\n",
       "       'Snehamera Jeevitham', 'Thong Dee Fun Khao', 'John Doe',\n",
       "       'Tarzan and the Valley of Gold', 'Hard Days', '007: Shadows',\n",
       "       'Wolverhampton Wanderers vs Liverpool',\n",
       "       'Ausgrissn! - In der Lederhosn nach Las Vegas',\n",
       "       'Liverpool vs Wolverhampton Wanderers',\n",
       "       'Merseyside derby Everton FC vs Liverpool FC',\n",
       "       'RB Leipzig vs Paris Saint-Germain', 'Tiger Killer',\n",
       "       'Tottenham Hotspur vs Wolverhampton Wanderers', 'Immortal',\n",
       "       'Leicester City vs Aston Villa'], dtype=object)"
      ]
     },
     "execution_count": 46,
     "metadata": {},
     "output_type": "execute_result"
    }
   ],
   "source": [
    "titles.loc[n[0], 'primaryTitle'].values"
   ]
  },
  {
   "cell_type": "code",
   "execution_count": 24,
   "metadata": {
    "scrolled": true
   },
   "outputs": [],
   "source": [
    "a = movies_oh[movies_oh['primaryTitle'].str.contains('Spider')].primaryTitle"
   ]
  },
  {
   "cell_type": "code",
   "execution_count": 25,
   "metadata": {},
   "outputs": [],
   "source": [
    "a = pd.DataFrame(a)"
   ]
  },
  {
   "cell_type": "code",
   "execution_count": 31,
   "metadata": {},
   "outputs": [
    {
     "data": {
      "text/plain": [
       "1802                              The Gilded Spider\n",
       "2220                         The Spider and the Fly\n",
       "2221                                     The Spider\n",
       "4683        The Spiders - Episode 1: The Golden Sea\n",
       "5469      The Spiders - Episode 2: The Diamond Ship\n",
       "                            ...                    \n",
       "605715                           Spider and the Fly\n",
       "607533                                       Spider\n",
       "609096                                Paper Spiders\n",
       "610248                       Spider-Man 4: Fan Film\n",
       "610574                                   Spiderhead\n",
       "Name: primaryTitle, Length: 212, dtype: object"
      ]
     },
     "execution_count": 31,
     "metadata": {},
     "output_type": "execute_result"
    }
   ],
   "source": [
    "a['primaryTitle']"
   ]
  },
  {
   "cell_type": "code",
   "execution_count": 27,
   "metadata": {},
   "outputs": [
    {
     "data": {
      "text/plain": [
       "59"
      ]
     },
     "execution_count": 27,
     "metadata": {},
     "output_type": "execute_result"
    }
   ],
   "source": [
    "a[a['primaryTitle'].str.contains('Man')].primaryTitle"
   ]
  },
  {
   "cell_type": "code",
   "execution_count": 19,
   "metadata": {},
   "outputs": [
    {
     "data": {
      "text/plain": [
       "51405"
      ]
     },
     "execution_count": 19,
     "metadata": {},
     "output_type": "execute_result"
    }
   ],
   "source": [
    "titles = movies_oh['primaryTitle']\n",
    "titles = pd.DataFrame(titles)\n",
    "titles[titles['primaryTitle'] == 'The Pelican'].index[0]"
   ]
  },
  {
   "cell_type": "code",
   "execution_count": 25,
   "metadata": {},
   "outputs": [],
   "source": [
    "movies_oh_rating = pd.merge(movies_oh, ratings, 'left', on = 'tconst')"
   ]
  },
  {
   "cell_type": "code",
   "execution_count": 26,
   "metadata": {},
   "outputs": [],
   "source": [
    "movies_oh_rating.fillna(0, inplace = True)"
   ]
  },
  {
   "cell_type": "code",
   "execution_count": 27,
   "metadata": {},
   "outputs": [],
   "source": [
    "train_rating = movies_oh_rating.select_dtypes(exclude = 'object')"
   ]
  },
  {
   "cell_type": "code",
   "execution_count": 51,
   "metadata": {},
   "outputs": [
    {
     "data": {
      "text/html": [
       "<div>\n",
       "<style scoped>\n",
       "    .dataframe tbody tr th:only-of-type {\n",
       "        vertical-align: middle;\n",
       "    }\n",
       "\n",
       "    .dataframe tbody tr th {\n",
       "        vertical-align: top;\n",
       "    }\n",
       "\n",
       "    .dataframe thead th {\n",
       "        text-align: right;\n",
       "    }\n",
       "</style>\n",
       "<table border=\"1\" class=\"dataframe\">\n",
       "  <thead>\n",
       "    <tr style=\"text-align: right;\">\n",
       "      <th></th>\n",
       "      <th>isAdult</th>\n",
       "      <th>startYear</th>\n",
       "      <th>runtimeMinutes</th>\n",
       "      <th>unknown</th>\n",
       "      <th>Action</th>\n",
       "      <th>Adventure</th>\n",
       "      <th>Biography</th>\n",
       "      <th>Drama</th>\n",
       "      <th>Fantasy</th>\n",
       "      <th>Comedy</th>\n",
       "      <th>...</th>\n",
       "      <th>Musical</th>\n",
       "      <th>Film-Noir</th>\n",
       "      <th>News</th>\n",
       "      <th>Short</th>\n",
       "      <th>Adult</th>\n",
       "      <th>Reality-TV</th>\n",
       "      <th>Talk-Show</th>\n",
       "      <th>Game-Show</th>\n",
       "      <th>averageRating</th>\n",
       "      <th>numVotes</th>\n",
       "    </tr>\n",
       "  </thead>\n",
       "  <tbody>\n",
       "    <tr>\n",
       "      <th>0</th>\n",
       "      <td>0.0</td>\n",
       "      <td>0</td>\n",
       "      <td>100</td>\n",
       "      <td>1</td>\n",
       "      <td>0</td>\n",
       "      <td>0</td>\n",
       "      <td>0</td>\n",
       "      <td>0</td>\n",
       "      <td>0</td>\n",
       "      <td>0</td>\n",
       "      <td>...</td>\n",
       "      <td>0</td>\n",
       "      <td>0</td>\n",
       "      <td>0</td>\n",
       "      <td>0</td>\n",
       "      <td>0</td>\n",
       "      <td>0</td>\n",
       "      <td>0</td>\n",
       "      <td>0</td>\n",
       "      <td>4.5</td>\n",
       "      <td>14.0</td>\n",
       "    </tr>\n",
       "    <tr>\n",
       "      <th>1</th>\n",
       "      <td>0.0</td>\n",
       "      <td>1</td>\n",
       "      <td>70</td>\n",
       "      <td>0</td>\n",
       "      <td>1</td>\n",
       "      <td>1</td>\n",
       "      <td>1</td>\n",
       "      <td>0</td>\n",
       "      <td>0</td>\n",
       "      <td>0</td>\n",
       "      <td>...</td>\n",
       "      <td>0</td>\n",
       "      <td>0</td>\n",
       "      <td>0</td>\n",
       "      <td>0</td>\n",
       "      <td>0</td>\n",
       "      <td>0</td>\n",
       "      <td>0</td>\n",
       "      <td>0</td>\n",
       "      <td>6.0</td>\n",
       "      <td>772.0</td>\n",
       "    </tr>\n",
       "    <tr>\n",
       "      <th>2</th>\n",
       "      <td>0.0</td>\n",
       "      <td>2</td>\n",
       "      <td>90</td>\n",
       "      <td>0</td>\n",
       "      <td>0</td>\n",
       "      <td>0</td>\n",
       "      <td>0</td>\n",
       "      <td>1</td>\n",
       "      <td>0</td>\n",
       "      <td>0</td>\n",
       "      <td>...</td>\n",
       "      <td>0</td>\n",
       "      <td>0</td>\n",
       "      <td>0</td>\n",
       "      <td>0</td>\n",
       "      <td>0</td>\n",
       "      <td>0</td>\n",
       "      <td>0</td>\n",
       "      <td>0</td>\n",
       "      <td>4.5</td>\n",
       "      <td>18.0</td>\n",
       "    </tr>\n",
       "    <tr>\n",
       "      <th>3</th>\n",
       "      <td>0.0</td>\n",
       "      <td>2</td>\n",
       "      <td>0</td>\n",
       "      <td>0</td>\n",
       "      <td>0</td>\n",
       "      <td>0</td>\n",
       "      <td>0</td>\n",
       "      <td>1</td>\n",
       "      <td>0</td>\n",
       "      <td>0</td>\n",
       "      <td>...</td>\n",
       "      <td>0</td>\n",
       "      <td>0</td>\n",
       "      <td>0</td>\n",
       "      <td>0</td>\n",
       "      <td>0</td>\n",
       "      <td>0</td>\n",
       "      <td>0</td>\n",
       "      <td>0</td>\n",
       "      <td>4.5</td>\n",
       "      <td>23.0</td>\n",
       "    </tr>\n",
       "    <tr>\n",
       "      <th>4</th>\n",
       "      <td>0.0</td>\n",
       "      <td>3</td>\n",
       "      <td>0</td>\n",
       "      <td>0</td>\n",
       "      <td>0</td>\n",
       "      <td>0</td>\n",
       "      <td>0</td>\n",
       "      <td>1</td>\n",
       "      <td>0</td>\n",
       "      <td>0</td>\n",
       "      <td>...</td>\n",
       "      <td>0</td>\n",
       "      <td>0</td>\n",
       "      <td>0</td>\n",
       "      <td>0</td>\n",
       "      <td>0</td>\n",
       "      <td>0</td>\n",
       "      <td>0</td>\n",
       "      <td>0</td>\n",
       "      <td>3.9</td>\n",
       "      <td>25.0</td>\n",
       "    </tr>\n",
       "    <tr>\n",
       "      <th>...</th>\n",
       "      <td>...</td>\n",
       "      <td>...</td>\n",
       "      <td>...</td>\n",
       "      <td>...</td>\n",
       "      <td>...</td>\n",
       "      <td>...</td>\n",
       "      <td>...</td>\n",
       "      <td>...</td>\n",
       "      <td>...</td>\n",
       "      <td>...</td>\n",
       "      <td>...</td>\n",
       "      <td>...</td>\n",
       "      <td>...</td>\n",
       "      <td>...</td>\n",
       "      <td>...</td>\n",
       "      <td>...</td>\n",
       "      <td>...</td>\n",
       "      <td>...</td>\n",
       "      <td>...</td>\n",
       "      <td>...</td>\n",
       "      <td>...</td>\n",
       "    </tr>\n",
       "    <tr>\n",
       "      <th>612996</th>\n",
       "      <td>0.0</td>\n",
       "      <td>121</td>\n",
       "      <td>57</td>\n",
       "      <td>0</td>\n",
       "      <td>0</td>\n",
       "      <td>0</td>\n",
       "      <td>0</td>\n",
       "      <td>0</td>\n",
       "      <td>0</td>\n",
       "      <td>0</td>\n",
       "      <td>...</td>\n",
       "      <td>0</td>\n",
       "      <td>0</td>\n",
       "      <td>0</td>\n",
       "      <td>0</td>\n",
       "      <td>0</td>\n",
       "      <td>0</td>\n",
       "      <td>0</td>\n",
       "      <td>0</td>\n",
       "      <td>0.0</td>\n",
       "      <td>0.0</td>\n",
       "    </tr>\n",
       "    <tr>\n",
       "      <th>612997</th>\n",
       "      <td>0.0</td>\n",
       "      <td>111</td>\n",
       "      <td>100</td>\n",
       "      <td>0</td>\n",
       "      <td>0</td>\n",
       "      <td>0</td>\n",
       "      <td>0</td>\n",
       "      <td>0</td>\n",
       "      <td>0</td>\n",
       "      <td>0</td>\n",
       "      <td>...</td>\n",
       "      <td>0</td>\n",
       "      <td>0</td>\n",
       "      <td>0</td>\n",
       "      <td>0</td>\n",
       "      <td>0</td>\n",
       "      <td>0</td>\n",
       "      <td>0</td>\n",
       "      <td>0</td>\n",
       "      <td>0.0</td>\n",
       "      <td>0.0</td>\n",
       "    </tr>\n",
       "    <tr>\n",
       "      <th>612998</th>\n",
       "      <td>0.0</td>\n",
       "      <td>117</td>\n",
       "      <td>0</td>\n",
       "      <td>0</td>\n",
       "      <td>0</td>\n",
       "      <td>0</td>\n",
       "      <td>0</td>\n",
       "      <td>0</td>\n",
       "      <td>0</td>\n",
       "      <td>1</td>\n",
       "      <td>...</td>\n",
       "      <td>0</td>\n",
       "      <td>0</td>\n",
       "      <td>0</td>\n",
       "      <td>0</td>\n",
       "      <td>0</td>\n",
       "      <td>0</td>\n",
       "      <td>0</td>\n",
       "      <td>0</td>\n",
       "      <td>0.0</td>\n",
       "      <td>0.0</td>\n",
       "    </tr>\n",
       "    <tr>\n",
       "      <th>612999</th>\n",
       "      <td>0.0</td>\n",
       "      <td>104</td>\n",
       "      <td>116</td>\n",
       "      <td>1</td>\n",
       "      <td>0</td>\n",
       "      <td>0</td>\n",
       "      <td>0</td>\n",
       "      <td>0</td>\n",
       "      <td>0</td>\n",
       "      <td>0</td>\n",
       "      <td>...</td>\n",
       "      <td>0</td>\n",
       "      <td>0</td>\n",
       "      <td>0</td>\n",
       "      <td>0</td>\n",
       "      <td>0</td>\n",
       "      <td>0</td>\n",
       "      <td>0</td>\n",
       "      <td>0</td>\n",
       "      <td>8.4</td>\n",
       "      <td>6.0</td>\n",
       "    </tr>\n",
       "    <tr>\n",
       "      <th>613000</th>\n",
       "      <td>0.0</td>\n",
       "      <td>117</td>\n",
       "      <td>49</td>\n",
       "      <td>0</td>\n",
       "      <td>0</td>\n",
       "      <td>0</td>\n",
       "      <td>0</td>\n",
       "      <td>0</td>\n",
       "      <td>0</td>\n",
       "      <td>0</td>\n",
       "      <td>...</td>\n",
       "      <td>0</td>\n",
       "      <td>0</td>\n",
       "      <td>0</td>\n",
       "      <td>0</td>\n",
       "      <td>0</td>\n",
       "      <td>0</td>\n",
       "      <td>0</td>\n",
       "      <td>0</td>\n",
       "      <td>0.0</td>\n",
       "      <td>0.0</td>\n",
       "    </tr>\n",
       "  </tbody>\n",
       "</table>\n",
       "<p>613001 rows × 34 columns</p>\n",
       "</div>"
      ],
      "text/plain": [
       "        isAdult  startYear  runtimeMinutes  unknown  Action  Adventure  \\\n",
       "0           0.0          0             100        1       0          0   \n",
       "1           0.0          1              70        0       1          1   \n",
       "2           0.0          2              90        0       0          0   \n",
       "3           0.0          2               0        0       0          0   \n",
       "4           0.0          3               0        0       0          0   \n",
       "...         ...        ...             ...      ...     ...        ...   \n",
       "612996      0.0        121              57        0       0          0   \n",
       "612997      0.0        111             100        0       0          0   \n",
       "612998      0.0        117               0        0       0          0   \n",
       "612999      0.0        104             116        1       0          0   \n",
       "613000      0.0        117              49        0       0          0   \n",
       "\n",
       "        Biography  Drama  Fantasy  Comedy  ...  Musical  Film-Noir  News  \\\n",
       "0               0      0        0       0  ...        0          0     0   \n",
       "1               1      0        0       0  ...        0          0     0   \n",
       "2               0      1        0       0  ...        0          0     0   \n",
       "3               0      1        0       0  ...        0          0     0   \n",
       "4               0      1        0       0  ...        0          0     0   \n",
       "...           ...    ...      ...     ...  ...      ...        ...   ...   \n",
       "612996          0      0        0       0  ...        0          0     0   \n",
       "612997          0      0        0       0  ...        0          0     0   \n",
       "612998          0      0        0       1  ...        0          0     0   \n",
       "612999          0      0        0       0  ...        0          0     0   \n",
       "613000          0      0        0       0  ...        0          0     0   \n",
       "\n",
       "        Short  Adult  Reality-TV  Talk-Show  Game-Show  averageRating  \\\n",
       "0           0      0           0          0          0            4.5   \n",
       "1           0      0           0          0          0            6.0   \n",
       "2           0      0           0          0          0            4.5   \n",
       "3           0      0           0          0          0            4.5   \n",
       "4           0      0           0          0          0            3.9   \n",
       "...       ...    ...         ...        ...        ...            ...   \n",
       "612996      0      0           0          0          0            0.0   \n",
       "612997      0      0           0          0          0            0.0   \n",
       "612998      0      0           0          0          0            0.0   \n",
       "612999      0      0           0          0          0            8.4   \n",
       "613000      0      0           0          0          0            0.0   \n",
       "\n",
       "        numVotes  \n",
       "0           14.0  \n",
       "1          772.0  \n",
       "2           18.0  \n",
       "3           23.0  \n",
       "4           25.0  \n",
       "...          ...  \n",
       "612996       0.0  \n",
       "612997       0.0  \n",
       "612998       0.0  \n",
       "612999       6.0  \n",
       "613000       0.0  \n",
       "\n",
       "[613001 rows x 34 columns]"
      ]
     },
     "execution_count": 51,
     "metadata": {},
     "output_type": "execute_result"
    }
   ],
   "source": [
    "train_rating"
   ]
  },
  {
   "cell_type": "code",
   "execution_count": 28,
   "metadata": {},
   "outputs": [
    {
     "data": {
      "text/plain": [
       "NearestNeighbors(algorithm='brute', metric='cosine', n_jobs=-1, n_neighbors=100)"
      ]
     },
     "execution_count": 28,
     "metadata": {},
     "output_type": "execute_result"
    }
   ],
   "source": [
    "knn2 = NearestNeighbors(metric='cosine', algorithm='brute', n_neighbors=100, n_jobs=-1)\n",
    "knn2.fit(train_rating)"
   ]
  },
  {
   "cell_type": "code",
   "execution_count": 41,
   "metadata": {},
   "outputs": [],
   "source": [
    "dist2, n2 = knn2.kneighbors(np.array(train_rating.loc[424536, :]).reshape(1,-1))"
   ]
  },
  {
   "cell_type": "code",
   "execution_count": 47,
   "metadata": {
    "scrolled": true
   },
   "outputs": [
    {
     "data": {
      "text/plain": [
       "array(['Avengers: Age of Ultron', 'The Martian', 'Doctor Strange',\n",
       "       'Arrival', 'The Incredibles', 'City of God',\n",
       "       'Captain America: The Winter Soldier',\n",
       "       'Star Wars: Episode I - The Phantom Menace', 'Life Is Beautiful',\n",
       "       'Iron Man 3', 'Iron Man 2', 'Monty Python and the Holy Grail',\n",
       "       'Suicide Squad', 'Sin City', 'Thor: Ragnarok',\n",
       "       'Harry Potter and the Deathly Hallows: Part 2', 'Gran Torino',\n",
       "       'Gone Girl', 'Ratatouille', 'Captain America: The First Avenger',\n",
       "       'District 9', 'Home Alone', 'Logan', 'The Hunger Games',\n",
       "       'Kill Bill: Vol. 2', 'Dunkirk',\n",
       "       'Star Wars: Episode VII - The Force Awakens',\n",
       "       'Star Wars: Episode III - Revenge of the Sith',\n",
       "       'The Social Network', \"Pan's Labyrinth\", 'Silver Linings Playbook',\n",
       "       'Spider-Man', 'Man of Steel', 'Full Metal Jacket', 'The Pianist',\n",
       "       'Blade Runner', \"The King's Speech\", 'Black Panther', 'Black Swan',\n",
       "       '300', 'Million Dollar Baby', 'The Big Lebowski',\n",
       "       'Captain America: Civil War', 'Thor', 'Slumdog Millionaire',\n",
       "       'The Imitation Game', 'Indiana Jones and the Last Crusade',\n",
       "       'Dr. Strangelove or: How I Learned to Stop Worrying and Love the Bomb',\n",
       "       'Thor: The Dark World', 'I Am Legend', 'The Revenant',\n",
       "       'Spider-Man 2', 'Aliens', 'The Intouchables',\n",
       "       'How to Train Your Dragon', 'The Bourne Ultimatum',\n",
       "       'A Quiet Place', 'Star Wars: Episode II - Attack of the Clones',\n",
       "       'World War Z', '12 Years a Slave', 'X-Men: First Class',\n",
       "       'Lock, Stock and Two Smoking Barrels', 'Die Hard',\n",
       "       'Now You See Me', 'The Hangover', 'Psycho', 'Whiplash',\n",
       "       'Catch Me If You Can', 'Shaun of the Dead', 'Taken',\n",
       "       'The Hobbit: An Unexpected Journey', 'X-Men: Days of Future Past',\n",
       "       'Guardians of the Galaxy Vol. 2', 'Toy Story 3', 'Toy Story 2',\n",
       "       'Get Out', '12 Monkeys', 'Jaws', 'Inside Out',\n",
       "       'Back to the Future Part II', 'Ant-Man', 'Men in Black',\n",
       "       'The Grand Budapest Hotel', 'Rocky', 'Drive',\n",
       "       'Spider-Man: Homecoming', 'Frozen', 'Skyfall',\n",
       "       \"Pirates of the Caribbean: Dead Man's Chest\", 'Good Will Hunting',\n",
       "       'No Country for Old Men', 'Sherlock Holmes', 'Edge of Tomorrow',\n",
       "       'Ted', 'Deadpool 2', 'Mad Max: Fury Road', 'Zombieland', 'Titanic',\n",
       "       'Batman v Superman: Dawn of Justice', 'A Clockwork Orange'],\n",
       "      dtype=object)"
      ]
     },
     "execution_count": 47,
     "metadata": {},
     "output_type": "execute_result"
    }
   ],
   "source": [
    "movies_oh_rating.loc[n2[0], 'primaryTitle'].values"
   ]
  },
  {
   "cell_type": "code",
   "execution_count": 32,
   "metadata": {},
   "outputs": [],
   "source": [
    "rating_only = pd.merge(movies_oh[['tconst','primaryTitle', 'isAdult','startYear']], ratings, 'left', on = 'tconst')"
   ]
  },
  {
   "cell_type": "code",
   "execution_count": 33,
   "metadata": {},
   "outputs": [],
   "source": [
    "rating_only = rating_only.fillna(0)\n",
    "train_rating_only = rating_only.select_dtypes(exclude = 'object')"
   ]
  },
  {
   "cell_type": "code",
   "execution_count": null,
   "metadata": {},
   "outputs": [],
   "source": [
    "train_rating_only"
   ]
  },
  {
   "cell_type": "code",
   "execution_count": 34,
   "metadata": {},
   "outputs": [
    {
     "data": {
      "text/plain": [
       "NearestNeighbors(algorithm='brute', metric='cosine', n_jobs=-1, n_neighbors=100)"
      ]
     },
     "execution_count": 34,
     "metadata": {},
     "output_type": "execute_result"
    }
   ],
   "source": [
    "from sklearn.neighbors import NearestNeighbors\n",
    "knn3 = NearestNeighbors(metric='cosine', algorithm='brute', n_neighbors=100, n_jobs=-1)\n",
    "knn3.fit(train_rating_only)"
   ]
  },
  {
   "cell_type": "code",
   "execution_count": null,
   "metadata": {},
   "outputs": [],
   "source": []
  },
  {
   "cell_type": "code",
   "execution_count": 43,
   "metadata": {},
   "outputs": [],
   "source": [
    "dist3, n3 = knn3.kneighbors(np.array(train_rating_only.loc[424536, :]).reshape(1,-1))"
   ]
  },
  {
   "cell_type": "code",
   "execution_count": 48,
   "metadata": {
    "scrolled": true
   },
   "outputs": [
    {
     "data": {
      "text/plain": [
       "array(['Avengers: Age of Ultron', 'Thor', 'Gravity',\n",
       "       'The Hobbit: An Unexpected Journey',\n",
       "       'Captain America: The First Avenger', 'The Martian',\n",
       "       'Doctor Strange', 'Iron Man 2', 'The Hangover', 'Iron Man 3',\n",
       "       'The Intouchables', 'Gran Torino', 'Logan',\n",
       "       'Batman v Superman: Dawn of Justice', 'Thor: Ragnarok',\n",
       "       'Star Wars: Episode II - Attack of the Clones', '12 Monkeys',\n",
       "       'Million Dollar Baby', 'The Incredibles', 'I Am Legend',\n",
       "       'Home Alone', 'Harry Potter and the Deathly Hallows: Part 2',\n",
       "       'Jaws', 'Toy Story 3', 'City of God', 'Black Swan',\n",
       "       'Suicide Squad', 'Heat', 'Arrival',\n",
       "       \"Pirates of the Caribbean: Dead Man's Chest\", 'Rocky', 'Radhe',\n",
       "       'Dr. Strangelove or: How I Learned to Stop Worrying and Love the Bomb',\n",
       "       'The Fast and the Furious', 'Kill Bill: Vol. 2',\n",
       "       'Star Wars: Episode I - The Phantom Menace', 'Man of Steel',\n",
       "       'Captain America: Civil War',\n",
       "       'Captain America: The Winter Soldier', 'The Revenant',\n",
       "       'Life Is Beautiful', 'Whiplash', 'Gone Girl', '300',\n",
       "       'Star Wars: Episode VII - The Force Awakens',\n",
       "       'How to Train Your Dragon', 'Ratatouille', 'Black Hawk Down',\n",
       "       'Monty Python and the Holy Grail', 'Spider-Man 2', 'The Others',\n",
       "       'Guardians of the Galaxy Vol. 2', 'Sin City',\n",
       "       'Slumdog Millionaire', 'Spider-Man', 'From Dusk Till Dawn',\n",
       "       'The Exorcist', 'The Hunger Games',\n",
       "       'Star Wars: Episode III - Revenge of the Sith', 'The Pianist',\n",
       "       'Mulholland Drive', 'The Big Lebowski', 'The Grand Budapest Hotel',\n",
       "       'District 9', 'Harry Potter and the Prisoner of Azkaban',\n",
       "       'Wonder Woman', 'Harry Potter and the Goblet of Fire',\n",
       "       \"Pan's Labyrinth\", 'Black Panther', 'Deadpool 2', 'Dunkirk',\n",
       "       'Back to the Future Part II', 'Spider-Man: Homecoming',\n",
       "       'Mad Max: Fury Road', 'Training Day', 'Scream',\n",
       "       'The Social Network', 'The Rock', 'Aliens', 'Blade Runner',\n",
       "       'Casino Royale', 'Silver Linings Playbook', 'Edward Scissorhands',\n",
       "       'Pearl Harbor', \"Charlie's Angels\", 'Full Metal Jacket',\n",
       "       'Harry Potter and the Chamber of Secrets', 'Apocalypse Now',\n",
       "       'Rogue One: A Star Wars Story', 'Vertigo', 'Miss Congeniality',\n",
       "       \"The King's Speech\", 'What Women Want', 'The Imitation Game',\n",
       "       'Skyfall', 'Star Wars: Episode VIII - The Last Jedi',\n",
       "       'The Curious Case of Benjamin Button', 'Army of the Dead',\n",
       "       '12 Years a Slave', 'The Mummy Returns'], dtype=object)"
      ]
     },
     "execution_count": 48,
     "metadata": {},
     "output_type": "execute_result"
    }
   ],
   "source": [
    "movies_oh_rating.loc[n3[0], 'primaryTitle'].values"
   ]
  },
  {
   "cell_type": "code",
   "execution_count": 55,
   "metadata": {},
   "outputs": [],
   "source": [
    "a = {1:5,2:6,7:8}"
   ]
  },
  {
   "cell_type": "code",
   "execution_count": 56,
   "metadata": {},
   "outputs": [
    {
     "data": {
      "text/plain": [
       "5"
      ]
     },
     "execution_count": 56,
     "metadata": {},
     "output_type": "execute_result"
    }
   ],
   "source": [
    "a[] = min(a.values())"
   ]
  },
  {
   "cell_type": "code",
   "execution_count": 49,
   "metadata": {},
   "outputs": [],
   "source": [
    "with open('knn.pickle', 'wb') as f:\n",
    "    pk.dump(knn2, f)\n",
    "with open('knn2.pickle', 'wb') as f:\n",
    "    pk.dump(knn3,f)\n",
    "with open('titles.pickle','wb') as f:\n",
    "    pk.dump(titles, f)"
   ]
  },
  {
   "cell_type": "code",
   "execution_count": 53,
   "metadata": {},
   "outputs": [],
   "source": [
    "\n",
    "with open('train_rating.pickle','wb') as f:\n",
    "    pk.dump(train_rating, f)\n",
    "with open('train_rating_only.pickle','wb') as f:\n",
    "    pk.dump(train_rating_only, f)"
   ]
  }
 ],
 "metadata": {
  "kernelspec": {
   "display_name": "Python 3 (ipykernel)",
   "language": "python",
   "name": "python3"
  },
  "language_info": {
   "codemirror_mode": {
    "name": "ipython",
    "version": 3
   },
   "file_extension": ".py",
   "mimetype": "text/x-python",
   "name": "python",
   "nbconvert_exporter": "python",
   "pygments_lexer": "ipython3",
   "version": "3.9.7"
  }
 },
 "nbformat": 4,
 "nbformat_minor": 4
}
